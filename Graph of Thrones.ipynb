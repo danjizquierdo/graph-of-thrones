{
 "cells": [
  {
   "cell_type": "code",
   "execution_count": 171,
   "metadata": {},
   "outputs": [],
   "source": [
    "# %pip install networkx"
   ]
  },
  {
   "cell_type": "code",
   "execution_count": 172,
   "metadata": {},
   "outputs": [],
   "source": [
    "# Base imports\n",
    "import pandas as pd\n",
    "import networkx as nx\n",
    "import matplotlib.pyplot as plt\n",
    "# Classifier imports\n",
    "from sklearn.preprocessing import StandardScaler\n",
    "from sklearn.model_selection import train_test_split\n",
    "from sklearn.metrics import f1_score\n",
    "from sklearn.ensemble import RandomForestClassifier\n",
    "from sklearn.linear_model import LogisticRegression\n",
    "from sklearn.neural_network import MLPClassifier\n",
    "from sklearn.neighbors import KNeighborsClassifier\n",
    "from sklearn.svm import SVC"
   ]
  },
  {
   "cell_type": "markdown",
   "metadata": {},
   "source": [
    "# Graph of Thrones"
   ]
  },
  {
   "cell_type": "markdown",
   "metadata": {},
   "source": [
    "Let's take a look at a dataset containing the characters that appear in G.R.R Martin's epic fantasy series *A Song of Ice and Fire*. Can we predict who lives and dies in the first book based on a character's Allegiance, Gender, Nobility and the chapter in which they are introduced? "
   ]
  },
  {
   "cell_type": "code",
   "execution_count": 173,
   "metadata": {},
   "outputs": [
    {
     "data": {
      "text/plain": [
       "['Addam Marbrand',\n",
       " 'Aegon I Targaryen',\n",
       " 'Aemon Targaryen (Maester Aemon)',\n",
       " 'Aerys II Targaryen',\n",
       " 'Aggo']"
      ]
     },
     "execution_count": 173,
     "metadata": {},
     "output_type": "execute_result"
    }
   ],
   "source": [
    "# Get a list of characters from the first book, print the first 5\n",
    "characters =[]\n",
    "with open('data/asoiaf-book1-nodes.csv') as f: [characters.append(line.split(',')[1].strip()) for line in f]\n",
    "characters.pop(0) # pop out the label\n",
    "characters[:5]"
   ]
  },
  {
   "cell_type": "code",
   "execution_count": 174,
   "metadata": {},
   "outputs": [
    {
     "data": {
      "text/html": [
       "<div>\n",
       "<style scoped>\n",
       "    .dataframe tbody tr th:only-of-type {\n",
       "        vertical-align: middle;\n",
       "    }\n",
       "\n",
       "    .dataframe tbody tr th {\n",
       "        vertical-align: top;\n",
       "    }\n",
       "\n",
       "    .dataframe thead th {\n",
       "        text-align: right;\n",
       "    }\n",
       "</style>\n",
       "<table border=\"1\" class=\"dataframe\">\n",
       "  <thead>\n",
       "    <tr style=\"text-align: right;\">\n",
       "      <th></th>\n",
       "      <th>Name</th>\n",
       "      <th>Allegiances</th>\n",
       "      <th>Death Year</th>\n",
       "      <th>Book of Death</th>\n",
       "      <th>Death Chapter</th>\n",
       "      <th>Book Intro Chapter</th>\n",
       "      <th>Gender</th>\n",
       "      <th>Nobility</th>\n",
       "      <th>GoT</th>\n",
       "      <th>CoK</th>\n",
       "      <th>SoS</th>\n",
       "      <th>FfC</th>\n",
       "      <th>DwD</th>\n",
       "    </tr>\n",
       "  </thead>\n",
       "  <tbody>\n",
       "    <tr>\n",
       "      <th>0</th>\n",
       "      <td>Addam Marbrand</td>\n",
       "      <td>Lannister</td>\n",
       "      <td>NaN</td>\n",
       "      <td>NaN</td>\n",
       "      <td>NaN</td>\n",
       "      <td>56.0</td>\n",
       "      <td>1</td>\n",
       "      <td>1</td>\n",
       "      <td>1</td>\n",
       "      <td>1</td>\n",
       "      <td>1</td>\n",
       "      <td>1</td>\n",
       "      <td>0</td>\n",
       "    </tr>\n",
       "    <tr>\n",
       "      <th>1</th>\n",
       "      <td>Aegon Frey (Jinglebell)</td>\n",
       "      <td>None</td>\n",
       "      <td>299.0</td>\n",
       "      <td>3.0</td>\n",
       "      <td>51.0</td>\n",
       "      <td>49.0</td>\n",
       "      <td>1</td>\n",
       "      <td>1</td>\n",
       "      <td>0</td>\n",
       "      <td>0</td>\n",
       "      <td>1</td>\n",
       "      <td>0</td>\n",
       "      <td>0</td>\n",
       "    </tr>\n",
       "    <tr>\n",
       "      <th>2</th>\n",
       "      <td>Aegon Targaryen</td>\n",
       "      <td>House Targaryen</td>\n",
       "      <td>NaN</td>\n",
       "      <td>NaN</td>\n",
       "      <td>NaN</td>\n",
       "      <td>5.0</td>\n",
       "      <td>1</td>\n",
       "      <td>1</td>\n",
       "      <td>0</td>\n",
       "      <td>0</td>\n",
       "      <td>0</td>\n",
       "      <td>0</td>\n",
       "      <td>1</td>\n",
       "    </tr>\n",
       "    <tr>\n",
       "      <th>3</th>\n",
       "      <td>Adrack Humble</td>\n",
       "      <td>House Greyjoy</td>\n",
       "      <td>300.0</td>\n",
       "      <td>5.0</td>\n",
       "      <td>20.0</td>\n",
       "      <td>20.0</td>\n",
       "      <td>1</td>\n",
       "      <td>1</td>\n",
       "      <td>0</td>\n",
       "      <td>0</td>\n",
       "      <td>0</td>\n",
       "      <td>0</td>\n",
       "      <td>1</td>\n",
       "    </tr>\n",
       "    <tr>\n",
       "      <th>4</th>\n",
       "      <td>Aemon Costayne</td>\n",
       "      <td>Lannister</td>\n",
       "      <td>NaN</td>\n",
       "      <td>NaN</td>\n",
       "      <td>NaN</td>\n",
       "      <td>NaN</td>\n",
       "      <td>1</td>\n",
       "      <td>1</td>\n",
       "      <td>0</td>\n",
       "      <td>0</td>\n",
       "      <td>1</td>\n",
       "      <td>0</td>\n",
       "      <td>0</td>\n",
       "    </tr>\n",
       "  </tbody>\n",
       "</table>\n",
       "</div>"
      ],
      "text/plain": [
       "                      Name      Allegiances  Death Year  Book of Death  \\\n",
       "0           Addam Marbrand        Lannister         NaN            NaN   \n",
       "1  Aegon Frey (Jinglebell)             None       299.0            3.0   \n",
       "2          Aegon Targaryen  House Targaryen         NaN            NaN   \n",
       "3            Adrack Humble    House Greyjoy       300.0            5.0   \n",
       "4           Aemon Costayne        Lannister         NaN            NaN   \n",
       "\n",
       "   Death Chapter  Book Intro Chapter  Gender  Nobility  GoT  CoK  SoS  FfC  \\\n",
       "0            NaN                56.0       1         1    1    1    1    1   \n",
       "1           51.0                49.0       1         1    0    0    1    0   \n",
       "2            NaN                 5.0       1         1    0    0    0    0   \n",
       "3           20.0                20.0       1         1    0    0    0    0   \n",
       "4            NaN                 NaN       1         1    0    0    1    0   \n",
       "\n",
       "   DwD  \n",
       "0    0  \n",
       "1    0  \n",
       "2    1  \n",
       "3    1  \n",
       "4    0  "
      ]
     },
     "execution_count": 174,
     "metadata": {},
     "output_type": "execute_result"
    }
   ],
   "source": [
    "# Read in data regarding deaths\n",
    "death_df = pd.read_csv('data/character-deaths.csv')\n",
    "death_df.head()"
   ]
  },
  {
   "cell_type": "code",
   "execution_count": 175,
   "metadata": {},
   "outputs": [],
   "source": [
    "# Create target variable\n",
    "death_df['Dead'] = death_df['Death Year'].apply(lambda x: 1 if x==x else 0)"
   ]
  },
  {
   "cell_type": "code",
   "execution_count": 176,
   "metadata": {},
   "outputs": [
    {
     "name": "stdout",
     "output_type": "stream",
     "text": [
      "Total Characters: 917, First Book Characters: 156\n"
     ]
    }
   ],
   "source": [
    "# Compare count of Characters in each set\n",
    "print(f\"\"\"Total Characters: {len(death_df)}, First Book Characters: {len(death_df.query(f'Name in {characters}'))}\"\"\")"
   ]
  },
  {
   "cell_type": "code",
   "execution_count": 177,
   "metadata": {},
   "outputs": [
    {
     "data": {
      "text/html": [
       "<div>\n",
       "<style scoped>\n",
       "    .dataframe tbody tr th:only-of-type {\n",
       "        vertical-align: middle;\n",
       "    }\n",
       "\n",
       "    .dataframe tbody tr th {\n",
       "        vertical-align: top;\n",
       "    }\n",
       "\n",
       "    .dataframe thead th {\n",
       "        text-align: right;\n",
       "    }\n",
       "</style>\n",
       "<table border=\"1\" class=\"dataframe\">\n",
       "  <thead>\n",
       "    <tr style=\"text-align: right;\">\n",
       "      <th></th>\n",
       "      <th>Name</th>\n",
       "      <th>Allegiances</th>\n",
       "      <th>Death Year</th>\n",
       "      <th>Book of Death</th>\n",
       "      <th>Death Chapter</th>\n",
       "      <th>Book Intro Chapter</th>\n",
       "      <th>Gender</th>\n",
       "      <th>Nobility</th>\n",
       "      <th>GoT</th>\n",
       "      <th>CoK</th>\n",
       "      <th>SoS</th>\n",
       "      <th>FfC</th>\n",
       "      <th>DwD</th>\n",
       "      <th>Dead</th>\n",
       "    </tr>\n",
       "  </thead>\n",
       "  <tbody>\n",
       "    <tr>\n",
       "      <th>0</th>\n",
       "      <td>Addam Marbrand</td>\n",
       "      <td>Lannister</td>\n",
       "      <td>NaN</td>\n",
       "      <td>NaN</td>\n",
       "      <td>NaN</td>\n",
       "      <td>56.0</td>\n",
       "      <td>1</td>\n",
       "      <td>1</td>\n",
       "      <td>1</td>\n",
       "      <td>1</td>\n",
       "      <td>1</td>\n",
       "      <td>1</td>\n",
       "      <td>0</td>\n",
       "      <td>0</td>\n",
       "    </tr>\n",
       "    <tr>\n",
       "      <th>1</th>\n",
       "      <td>Aggo</td>\n",
       "      <td>House Targaryen</td>\n",
       "      <td>NaN</td>\n",
       "      <td>NaN</td>\n",
       "      <td>NaN</td>\n",
       "      <td>54.0</td>\n",
       "      <td>1</td>\n",
       "      <td>0</td>\n",
       "      <td>1</td>\n",
       "      <td>1</td>\n",
       "      <td>1</td>\n",
       "      <td>0</td>\n",
       "      <td>1</td>\n",
       "      <td>0</td>\n",
       "    </tr>\n",
       "    <tr>\n",
       "      <th>2</th>\n",
       "      <td>Albett</td>\n",
       "      <td>Night's Watch</td>\n",
       "      <td>NaN</td>\n",
       "      <td>NaN</td>\n",
       "      <td>NaN</td>\n",
       "      <td>26.0</td>\n",
       "      <td>1</td>\n",
       "      <td>0</td>\n",
       "      <td>1</td>\n",
       "      <td>0</td>\n",
       "      <td>0</td>\n",
       "      <td>0</td>\n",
       "      <td>0</td>\n",
       "      <td>0</td>\n",
       "    </tr>\n",
       "    <tr>\n",
       "      <th>3</th>\n",
       "      <td>Alliser Thorne</td>\n",
       "      <td>Night's Watch</td>\n",
       "      <td>NaN</td>\n",
       "      <td>NaN</td>\n",
       "      <td>NaN</td>\n",
       "      <td>19.0</td>\n",
       "      <td>1</td>\n",
       "      <td>0</td>\n",
       "      <td>1</td>\n",
       "      <td>1</td>\n",
       "      <td>1</td>\n",
       "      <td>0</td>\n",
       "      <td>1</td>\n",
       "      <td>0</td>\n",
       "    </tr>\n",
       "    <tr>\n",
       "      <th>4</th>\n",
       "      <td>Alyn</td>\n",
       "      <td>House Stark</td>\n",
       "      <td>298.0</td>\n",
       "      <td>3.0</td>\n",
       "      <td>34.0</td>\n",
       "      <td>12.0</td>\n",
       "      <td>1</td>\n",
       "      <td>0</td>\n",
       "      <td>1</td>\n",
       "      <td>0</td>\n",
       "      <td>0</td>\n",
       "      <td>0</td>\n",
       "      <td>0</td>\n",
       "      <td>1</td>\n",
       "    </tr>\n",
       "  </tbody>\n",
       "</table>\n",
       "</div>"
      ],
      "text/plain": [
       "             Name      Allegiances  Death Year  Book of Death  Death Chapter  \\\n",
       "0  Addam Marbrand        Lannister         NaN            NaN            NaN   \n",
       "1            Aggo  House Targaryen         NaN            NaN            NaN   \n",
       "2          Albett    Night's Watch         NaN            NaN            NaN   \n",
       "3  Alliser Thorne    Night's Watch         NaN            NaN            NaN   \n",
       "4            Alyn      House Stark       298.0            3.0           34.0   \n",
       "\n",
       "   Book Intro Chapter  Gender  Nobility  GoT  CoK  SoS  FfC  DwD  Dead  \n",
       "0                56.0       1         1    1    1    1    1    0     0  \n",
       "1                54.0       1         0    1    1    1    0    1     0  \n",
       "2                26.0       1         0    1    0    0    0    0     0  \n",
       "3                19.0       1         0    1    1    1    0    1     0  \n",
       "4                12.0       1         0    1    0    0    0    0     1  "
      ]
     },
     "execution_count": 177,
     "metadata": {},
     "output_type": "execute_result"
    }
   ],
   "source": [
    "# Grab death data from Characters in the first book\n",
    "first_deaths = death_df.query(f'Name in {characters}').reset_index(drop=True)\n",
    "first_deaths.head()"
   ]
  },
  {
   "cell_type": "code",
   "execution_count": 178,
   "metadata": {},
   "outputs": [
    {
     "data": {
      "text/html": [
       "<div>\n",
       "<style scoped>\n",
       "    .dataframe tbody tr th:only-of-type {\n",
       "        vertical-align: middle;\n",
       "    }\n",
       "\n",
       "    .dataframe tbody tr th {\n",
       "        vertical-align: top;\n",
       "    }\n",
       "\n",
       "    .dataframe thead th {\n",
       "        text-align: right;\n",
       "    }\n",
       "</style>\n",
       "<table border=\"1\" class=\"dataframe\">\n",
       "  <thead>\n",
       "    <tr style=\"text-align: right;\">\n",
       "      <th></th>\n",
       "      <th>Name</th>\n",
       "      <th>Book Intro Chapter</th>\n",
       "      <th>Gender</th>\n",
       "      <th>Nobility</th>\n",
       "      <th>Dead</th>\n",
       "      <th>allegiance_Baratheon</th>\n",
       "      <th>allegiance_House Arryn</th>\n",
       "      <th>allegiance_House Baratheon</th>\n",
       "      <th>allegiance_House Greyjoy</th>\n",
       "      <th>allegiance_House Lannister</th>\n",
       "      <th>...</th>\n",
       "      <th>allegiance_House Tully</th>\n",
       "      <th>allegiance_House Tyrell</th>\n",
       "      <th>allegiance_Lannister</th>\n",
       "      <th>allegiance_Night's Watch</th>\n",
       "      <th>allegiance_None</th>\n",
       "      <th>allegiance_Stark</th>\n",
       "      <th>allegiance_Targaryen</th>\n",
       "      <th>allegiance_Tully</th>\n",
       "      <th>allegiance_Tyrell</th>\n",
       "      <th>allegiance_Wildling</th>\n",
       "    </tr>\n",
       "  </thead>\n",
       "  <tbody>\n",
       "    <tr>\n",
       "      <th>0</th>\n",
       "      <td>Addam Marbrand</td>\n",
       "      <td>56.0</td>\n",
       "      <td>1</td>\n",
       "      <td>1</td>\n",
       "      <td>0</td>\n",
       "      <td>0</td>\n",
       "      <td>0</td>\n",
       "      <td>0</td>\n",
       "      <td>0</td>\n",
       "      <td>0</td>\n",
       "      <td>...</td>\n",
       "      <td>0</td>\n",
       "      <td>0</td>\n",
       "      <td>1</td>\n",
       "      <td>0</td>\n",
       "      <td>0</td>\n",
       "      <td>0</td>\n",
       "      <td>0</td>\n",
       "      <td>0</td>\n",
       "      <td>0</td>\n",
       "      <td>0</td>\n",
       "    </tr>\n",
       "    <tr>\n",
       "      <th>1</th>\n",
       "      <td>Aggo</td>\n",
       "      <td>54.0</td>\n",
       "      <td>1</td>\n",
       "      <td>0</td>\n",
       "      <td>0</td>\n",
       "      <td>0</td>\n",
       "      <td>0</td>\n",
       "      <td>0</td>\n",
       "      <td>0</td>\n",
       "      <td>0</td>\n",
       "      <td>...</td>\n",
       "      <td>0</td>\n",
       "      <td>0</td>\n",
       "      <td>0</td>\n",
       "      <td>0</td>\n",
       "      <td>0</td>\n",
       "      <td>0</td>\n",
       "      <td>0</td>\n",
       "      <td>0</td>\n",
       "      <td>0</td>\n",
       "      <td>0</td>\n",
       "    </tr>\n",
       "    <tr>\n",
       "      <th>2</th>\n",
       "      <td>Albett</td>\n",
       "      <td>26.0</td>\n",
       "      <td>1</td>\n",
       "      <td>0</td>\n",
       "      <td>0</td>\n",
       "      <td>0</td>\n",
       "      <td>0</td>\n",
       "      <td>0</td>\n",
       "      <td>0</td>\n",
       "      <td>0</td>\n",
       "      <td>...</td>\n",
       "      <td>0</td>\n",
       "      <td>0</td>\n",
       "      <td>0</td>\n",
       "      <td>1</td>\n",
       "      <td>0</td>\n",
       "      <td>0</td>\n",
       "      <td>0</td>\n",
       "      <td>0</td>\n",
       "      <td>0</td>\n",
       "      <td>0</td>\n",
       "    </tr>\n",
       "    <tr>\n",
       "      <th>3</th>\n",
       "      <td>Alliser Thorne</td>\n",
       "      <td>19.0</td>\n",
       "      <td>1</td>\n",
       "      <td>0</td>\n",
       "      <td>0</td>\n",
       "      <td>0</td>\n",
       "      <td>0</td>\n",
       "      <td>0</td>\n",
       "      <td>0</td>\n",
       "      <td>0</td>\n",
       "      <td>...</td>\n",
       "      <td>0</td>\n",
       "      <td>0</td>\n",
       "      <td>0</td>\n",
       "      <td>1</td>\n",
       "      <td>0</td>\n",
       "      <td>0</td>\n",
       "      <td>0</td>\n",
       "      <td>0</td>\n",
       "      <td>0</td>\n",
       "      <td>0</td>\n",
       "    </tr>\n",
       "    <tr>\n",
       "      <th>4</th>\n",
       "      <td>Alyn</td>\n",
       "      <td>12.0</td>\n",
       "      <td>1</td>\n",
       "      <td>0</td>\n",
       "      <td>1</td>\n",
       "      <td>0</td>\n",
       "      <td>0</td>\n",
       "      <td>0</td>\n",
       "      <td>0</td>\n",
       "      <td>0</td>\n",
       "      <td>...</td>\n",
       "      <td>0</td>\n",
       "      <td>0</td>\n",
       "      <td>0</td>\n",
       "      <td>0</td>\n",
       "      <td>0</td>\n",
       "      <td>0</td>\n",
       "      <td>0</td>\n",
       "      <td>0</td>\n",
       "      <td>0</td>\n",
       "      <td>0</td>\n",
       "    </tr>\n",
       "  </tbody>\n",
       "</table>\n",
       "<p>5 rows × 22 columns</p>\n",
       "</div>"
      ],
      "text/plain": [
       "             Name  Book Intro Chapter  Gender  Nobility  Dead  \\\n",
       "0  Addam Marbrand                56.0       1         1     0   \n",
       "1            Aggo                54.0       1         0     0   \n",
       "2          Albett                26.0       1         0     0   \n",
       "3  Alliser Thorne                19.0       1         0     0   \n",
       "4            Alyn                12.0       1         0     1   \n",
       "\n",
       "   allegiance_Baratheon  allegiance_House Arryn  allegiance_House Baratheon  \\\n",
       "0                     0                       0                           0   \n",
       "1                     0                       0                           0   \n",
       "2                     0                       0                           0   \n",
       "3                     0                       0                           0   \n",
       "4                     0                       0                           0   \n",
       "\n",
       "   allegiance_House Greyjoy  allegiance_House Lannister  ...  \\\n",
       "0                         0                           0  ...   \n",
       "1                         0                           0  ...   \n",
       "2                         0                           0  ...   \n",
       "3                         0                           0  ...   \n",
       "4                         0                           0  ...   \n",
       "\n",
       "   allegiance_House Tully  allegiance_House Tyrell  allegiance_Lannister  \\\n",
       "0                       0                        0                     1   \n",
       "1                       0                        0                     0   \n",
       "2                       0                        0                     0   \n",
       "3                       0                        0                     0   \n",
       "4                       0                        0                     0   \n",
       "\n",
       "   allegiance_Night's Watch  allegiance_None  allegiance_Stark  \\\n",
       "0                         0                0                 0   \n",
       "1                         0                0                 0   \n",
       "2                         1                0                 0   \n",
       "3                         1                0                 0   \n",
       "4                         0                0                 0   \n",
       "\n",
       "   allegiance_Targaryen  allegiance_Tully  allegiance_Tyrell  \\\n",
       "0                     0                 0                  0   \n",
       "1                     0                 0                  0   \n",
       "2                     0                 0                  0   \n",
       "3                     0                 0                  0   \n",
       "4                     0                 0                  0   \n",
       "\n",
       "   allegiance_Wildling  \n",
       "0                    0  \n",
       "1                    0  \n",
       "2                    0  \n",
       "3                    0  \n",
       "4                    0  \n",
       "\n",
       "[5 rows x 22 columns]"
      ]
     },
     "execution_count": 178,
     "metadata": {},
     "output_type": "execute_result"
    }
   ],
   "source": [
    "# Grab relevant features and one hot encode categorical data (Allegiances)\n",
    "features = ['Name','Book Intro Chapter','Gender','Nobility','Dead']\n",
    "df=pd.concat([first_deaths[features],pd.get_dummies(first_deaths['Allegiances'], prefix='allegiance',drop_first=True)],axis=1)\n",
    "df.head()\n"
   ]
  },
  {
   "cell_type": "markdown",
   "metadata": {},
   "source": [
    "## Predicting Death\n",
    "\n",
    "### Tabular Data\n",
    ">*Valar Morghulis* (All Men must die) -- A Clash of Kings"
   ]
  },
  {
   "cell_type": "code",
   "execution_count": 179,
   "metadata": {},
   "outputs": [],
   "source": [
    "# Try a collection of classifiers\n",
    "names = [\"Nearest Neighbors\", \"Linear SVM\", \"RBF SVM\", \"Random Forest\", \"Neural Net\",\"Logistic Regression\"]\n",
    "\n",
    "classifiers = [\n",
    "    KNeighborsClassifier(3),\n",
    "    SVC(kernel=\"linear\", C=0.025, random_state=42),\n",
    "    SVC(gamma=2, C=1, random_state=42),\n",
    "    RandomForestClassifier(max_depth=5, n_estimators=10, max_features=3,random_state=42),\n",
    "    MLPClassifier(alpha=1, max_iter=1000, random_state=42),\n",
    "    LogisticRegression(solver='liblinear', random_state=42)]"
   ]
  },
  {
   "cell_type": "code",
   "execution_count": 180,
   "metadata": {},
   "outputs": [],
   "source": [
    "# Prepare data\n",
    "X, y = df.drop(['Name','Dead'],axis=1), df['Dead']\n",
    "X = StandardScaler().fit_transform(X)\n",
    "X_train, X_test, y_train, y_test = \\\n",
    "        train_test_split(X, y, test_size=.2, random_state=42)"
   ]
  },
  {
   "cell_type": "code",
   "execution_count": 182,
   "metadata": {
    "scrolled": false
   },
   "outputs": [
    {
     "name": "stdout",
     "output_type": "stream",
     "text": [
      "Base F1 Score for Nearest Neighbors: 0.48484848484848486\n",
      "Base F1 Score for Linear SVM: 0.4666666666666667\n",
      "Base F1 Score for RBF SVM: 0.38461538461538464\n",
      "Base F1 Score for Random Forest: 0.3333333333333333\n",
      "Base F1 Score for Neural Net: 0.41379310344827586\n",
      "Base F1 Score for Logistic Regression: 0.3703703703703703\n"
     ]
    }
   ],
   "source": [
    "# Untuned classifiers\n",
    "for name, clf in zip(names, classifiers):\n",
    "    clf.fit(X_train, y_train)\n",
    "    print(f'Base F1 Score for {name}: {f1_score(y_test, clf.predict(X_test))}')"
   ]
  },
  {
   "cell_type": "markdown",
   "metadata": {},
   "source": [
    "We now have some baseline scores for models built solely on tabular data."
   ]
  },
  {
   "cell_type": "markdown",
   "metadata": {},
   "source": [
    "### Graph Data\n",
    ">Every Man must die, but first He must live. -- Storm of Swords<\n",
    "Let's see if we can capture more information "
   ]
  },
  {
   "cell_type": "code",
   "execution_count": 223,
   "metadata": {},
   "outputs": [],
   "source": [
    "# Import graph database\n",
    "book1_df = pd.read_csv('data/asoiaf-book1-edges.csv')\n",
    "G1 = nx.Graph()\n",
    "for row in book1_df.iterrows():\n",
    "    G1.add_edge(row[1]['Source'].replace('-',' '), row[1]['Target'].replace('-',' '), weight=row[1]['weight'])"
   ]
  },
  {
   "cell_type": "code",
   "execution_count": 224,
   "metadata": {},
   "outputs": [
    {
     "data": {
      "text/plain": [
       "{'weight': 56}"
      ]
     },
     "execution_count": 224,
     "metadata": {},
     "output_type": "execute_result"
    }
   ],
   "source": [
    "# Inspect relationship/edge\n",
    "G1.get_edge_data('Tyrion Lannister','Jon Snow')"
   ]
  },
  {
   "cell_type": "code",
   "execution_count": 222,
   "metadata": {},
   "outputs": [
    {
     "data": {
      "image/png": "[encoded data removed]",
      "text/plain": [
       "<Figure size 864x864 with 1 Axes>"
      ]
     },
     "metadata": {},
     "output_type": "display_data"
    }
   ],
   "source": [
    "# Visualize a sample of the graph\n",
    "ax = plt.figure(figsize=(12,12))\n",
    "nx.draw(G1.subgraph(df.sample(n=50, random_state=42).Name), with_labels=True, font_weight='bold')\n",
    "plt.draw()"
   ]
  },
  {
   "cell_type": "markdown",
   "metadata": {},
   "source": [
    "### Graph Algorithms\n",
    "\n",
    "Using Graph Theory let us create some metrics from our network to augment the tabular data used in the models earlier.\n",
    "\n",
    "#### Degree (number of connections normalized by number of possible connections)\n"
   ]
  },
  {
   "cell_type": "code",
   "execution_count": 139,
   "metadata": {},
   "outputs": [],
   "source": [
    "# Calculate degree and assign it to each node\n",
    "for name, degree in nx.degree_centrality(G1).items():\n",
    "    G1.nodes[name]['degree']=degree"
   ]
  },
  {
   "cell_type": "code",
   "execution_count": 140,
   "metadata": {},
   "outputs": [
    {
     "data": {
      "text/plain": [
       "{'degree': 0.24731182795698928}"
      ]
     },
     "execution_count": 140,
     "metadata": {},
     "output_type": "execute_result"
    }
   ],
   "source": [
    "G1.nodes['Tyrion Lannister']"
   ]
  },
  {
   "cell_type": "markdown",
   "metadata": {},
   "source": [
    "#### Label propagation (community detection algorithm akin to KNN)"
   ]
  },
  {
   "cell_type": "code",
   "execution_count": 141,
   "metadata": {},
   "outputs": [
    {
     "name": "stdout",
     "output_type": "stream",
     "text": [
      "{'Waymar Royce', 'Will (prologue)', 'Gared'}\n",
      "{'Danwell Frey', 'Jared Frey', 'Hosteen Frey'}\n",
      "{'Doreah', 'Aggo', 'Ogo', 'Cohollo', 'Jommo', 'Drogo', 'Jorah Mormont', 'Qotho', 'Viserys Targaryen', 'Daenerys Targaryen', 'Haggo', 'Rakharo', 'Rhaego', 'Jhogo', 'Mirri Maz Duur', 'Irri', 'Fogo', 'Eroeh', 'Quaro', 'Jhiqui', 'Illyrio Mopatis'}\n",
      "{'Morrec', 'Jyck'}\n",
      "{'Paxter Redwyne', 'Mace Tyrell'}\n",
      "{'Todder', 'Chett', 'Dywen', 'Clydas', 'Randyll Tarly', 'Bowen Marsh', 'Rast', 'Jeor Mormont', 'Matthar', 'Albett', 'Hobb', 'Dareon', 'Alliser Thorne', 'Aemon Targaryen (Maester Aemon)', 'Jaremy Rykker', 'Samwell Tarly', 'Othor', 'Grenn', 'Jafer Flowers', 'Halder', 'Donal Noye', 'Jon Snow', 'Pypar'}\n",
      "{'Coratt', 'Conn'}\n",
      "{'Dolf', 'Shagga', 'Ulf son of Umar', 'Timett'}\n",
      "{'Lancel Lannister', 'Chiggen', 'Joffrey Baratheon', 'Porther', 'Tregar', 'Wylla', 'Mya Stone', 'Brynden Tully', 'Tyrion Lannister', 'Arthur Dayne', 'Roose Bolton', 'Eddard Stark', 'Petyr Baelish', 'Gregor Clegane', 'Galbart Glover', 'Jeyne Poole', 'Robb Stark', 'Balon Greyjoy', 'Harys Swyft', 'Kurleket', 'Karyl Vance', 'Mord', 'Theon Greyjoy', 'Mance Rayder', 'Lyanna Stark', 'Bronn', 'Daryn Hornwood', 'Arya Stark', 'Howland Reed', 'Syrio Forel', 'Yoren', 'Marq Piper', 'Ilyn Payne', 'Masha Heddle', 'Vayon Poole', 'Beric Dondarrion', 'Wyl (guard)', 'Maegor I Targaryen', 'Arys Oakheart', 'Jon Umber (Greatjon)', 'Desmond', 'Bran Stark', 'Robert Arryn', 'Walder Frey', 'Jacks', 'Rodrik Cassel', 'Tomard', 'Moreo Tumitis', 'Joseth', 'Torrhen Karstark', 'Hali', 'Maege Mormont', 'Boros Blount', 'Mycah', 'Tywin Lannister', 'Osha', 'Vardis Egen', 'Mychel Redfort', 'Jon Arryn', 'Joss', 'Varly', 'Heward', 'Benjen Stark', 'Myrcella Baratheon', 'Edmure Tully', 'Cayn', 'Marillion', 'Rhaegar Targaryen', 'Meryn Trant', 'Clement Piper', 'Harwin', 'Barristan Selmy', 'Stevron Frey', 'Catelyn Stark', 'Varys', 'Rickard Karstark', 'Colemon', 'Donnel Waynwood', 'Jaime Lannister', 'Gendry', 'Shae', 'Sandor Clegane', 'Hallis Mollen', 'Hoster Tully', 'Gunthor son of Gurn', 'Tytos Blackwood', 'Jory Cassel', 'Renly Baratheon', 'Hodor', 'Gerold Hightower', 'Pycelle', 'Sansa Stark', 'Hullen', 'Brandon Stark', 'Loras Tyrell', 'Thoros of Myr', 'Wendel Manderly', 'Robert Baratheon', 'Luwin', 'Stannis Baratheon', 'Raymun Darry', 'Tommen Baratheon', 'High Septon (fat_one)', 'Chella', 'Nestor Royce', 'Cersei Lannister', 'Aegon I Targaryen', 'Mordane', 'Willis Wode', 'Addam Marbrand', 'Oswell Whent', 'Kevan Lannister', 'Alyn', 'Leo Lefford', 'Hugh', 'Jonos Bracken', 'Rickon Stark', 'Nan', 'Rickard Stark', 'Stiv', 'Lysa Arryn', 'Tobho Mott', 'Lyn Corbray', 'Aerys II Targaryen', 'Eon Hunter', 'Janos Slynt', 'Balon Swann'}\n"
     ]
    }
   ],
   "source": [
    "# Assign community label to each node in the community and then print out the communities\n",
    "communities=[]\n",
    "for label, community in enumerate(nx.algorithms.community.label_propagation.label_propagation_communities(G1)):\n",
    "    communities.append(community)\n",
    "    print(community)\n",
    "    for name in community:\n",
    "        G1.nodes[name]['community'] = label"
   ]
  },
  {
   "cell_type": "markdown",
   "metadata": {},
   "source": [
    "#### EDA\n",
    "What information does the edge weights capture?"
   ]
  },
  {
   "cell_type": "code",
   "execution_count": 142,
   "metadata": {
    "scrolled": true
   },
   "outputs": [],
   "source": [
    "wts=[]\n",
    "relationships=[]\n",
    "# Loop through each node and its adjacent nodes and capture its weight \n",
    "for n, nbrs in G1.adj.items():\n",
    "    for nbr, eattr in nbrs.items():\n",
    "        wt = eattr['weight']\n",
    "        wts.append(wt)\n",
    "        relationships.append((wt,n,nbr))"
   ]
  },
  {
   "cell_type": "code",
   "execution_count": 143,
   "metadata": {},
   "outputs": [
    {
     "data": {
      "text/plain": [
       "[(0.003436426116838488, 'Eddard Stark', 'Robert Baratheon'),\n",
       " (0.008928571428571428, 'Bran Stark', 'Robb Stark'),\n",
       " (0.009615384615384616, 'Arya Stark', 'Sansa Stark'),\n",
       " (0.009900990099009901, 'Daenerys Targaryen', 'Drogo'),\n",
       " (0.011494252873563218, 'Joffrey Baratheon', 'Sansa Stark')]"
      ]
     },
     "execution_count": 143,
     "metadata": {},
     "output_type": "execute_result"
    }
   ],
   "source": [
    "# Examine weighted relationship, skip every other one (undirected relationship)\n",
    "sorted(relationships,key=(lambda x: x[0]),reverse=False)[:10:2]"
   ]
  },
  {
   "cell_type": "code",
   "execution_count": 144,
   "metadata": {},
   "outputs": [
    {
     "data": {
      "text/plain": [
       "(array([110., 118., 166., 112., 158., 158.,   0., 216.,   0., 330.]),\n",
       " array([0.00343643, 0.03642612, 0.06941581, 0.1024055 , 0.13539519,\n",
       "        0.16838488, 0.20137457, 0.23436426, 0.26735395, 0.30034364,\n",
       "        0.33333333]),\n",
       " <a list of 10 Patch objects>)"
      ]
     },
     "execution_count": 144,
     "metadata": {},
     "output_type": "execute_result"
    },
    {
     "data": {
      "image/png": "[encoded data removed]",
      "text/plain": [
       "<Figure size 432x288 with 1 Axes>"
      ]
     },
     "metadata": {
      "needs_background": "light"
     },
     "output_type": "display_data"
    }
   ],
   "source": [
    "# Plot distribution of weights\n",
    "plt.hist(wts)"
   ]
  },
  {
   "cell_type": "markdown",
   "metadata": {},
   "source": [
    "#### Centrality"
   ]
  },
  {
   "cell_type": "code",
   "execution_count": 156,
   "metadata": {},
   "outputs": [],
   "source": [
    "# Assign betweenness metric\n",
    "for name, betweenness in nx.betweenness_centrality(G1, seed=42).items():\n",
    "    G1.nodes[name]['betweenness']=betweenness"
   ]
  },
  {
   "cell_type": "code",
   "execution_count": 157,
   "metadata": {},
   "outputs": [
    {
     "data": {
      "text/plain": [
       "{'degree': 0.24731182795698928,\n",
       " 'community': 8,\n",
       " 'betweenness': 0.1902124972697492,\n",
       " 'rank': 0.02615193327458755}"
      ]
     },
     "execution_count": 157,
     "metadata": {},
     "output_type": "execute_result"
    }
   ],
   "source": [
    "G1.nodes['Tyrion Lannister']"
   ]
  },
  {
   "cell_type": "code",
   "execution_count": 158,
   "metadata": {},
   "outputs": [],
   "source": [
    "# Assign pagerank\n",
    "for name, rank in nx.pagerank(G1).items():\n",
    "    G1.nodes[name]['rank']=rank"
   ]
  },
  {
   "cell_type": "code",
   "execution_count": 159,
   "metadata": {},
   "outputs": [
    {
     "data": {
      "text/plain": [
       "{'degree': 0.24731182795698928,\n",
       " 'community': 8,\n",
       " 'betweenness': 0.1902124972697492,\n",
       " 'rank': 0.02615193327458755}"
      ]
     },
     "execution_count": 159,
     "metadata": {},
     "output_type": "execute_result"
    }
   ],
   "source": [
    "G1.nodes['Tyrion Lannister']"
   ]
  },
  {
   "cell_type": "markdown",
   "metadata": {},
   "source": [
    "## Augmented Data"
   ]
  },
  {
   "cell_type": "code",
   "execution_count": 161,
   "metadata": {},
   "outputs": [],
   "source": [
    "# Helper function to augment table data\n",
    "def graph_of_thrones(name):\n",
    "    if G1.nodes[name]:\n",
    "        return [G1.nodes[name]['betweenness'], G1.nodes[name]['community'], G1.nodes[name]['rank'], G1.nodes[name]['degree']]\n",
    "    return [None, None, None, None]"
   ]
  },
  {
   "cell_type": "code",
   "execution_count": 162,
   "metadata": {
    "scrolled": true
   },
   "outputs": [
    {
     "data": {
      "text/plain": [
       "Index(['Name', 'Book Intro Chapter', 'Gender', 'Nobility', 'Dead',\n",
       "       'allegiance_Arryn', 'allegiance_Baratheon', 'allegiance_House Arryn',\n",
       "       'allegiance_House Baratheon', 'allegiance_House Greyjoy',\n",
       "       'allegiance_House Lannister', 'allegiance_House Stark',\n",
       "       'allegiance_House Targaryen', 'allegiance_House Tully',\n",
       "       'allegiance_House Tyrell', 'allegiance_Lannister',\n",
       "       'allegiance_Night's Watch', 'allegiance_None', 'allegiance_Stark',\n",
       "       'allegiance_Targaryen', 'allegiance_Tully', 'allegiance_Tyrell',\n",
       "       'allegiance_Wildling', 'allegiance_nan', 'Betweenness', 'Community',\n",
       "       'Rank', 'Degree'],\n",
       "      dtype='object')"
      ]
     },
     "execution_count": 162,
     "metadata": {},
     "output_type": "execute_result"
    }
   ],
   "source": [
    "# Add metrics to original DataFrame\n",
    "graph_df = pd.concat([df,pd.DataFrame(df.apply(lambda x: graph_of_thrones(x.Name),axis=1).values.tolist(),columns=['Betweenness','Community','Rank','Degree'])],axis=1)\n",
    "graph_df.columns"
   ]
  },
  {
   "cell_type": "code",
   "execution_count": 163,
   "metadata": {},
   "outputs": [],
   "source": [
    "augmented_df=pd.concat([graph_df,pd.get_dummies(graph_df['Community'], prefix='community',dummy_na=True)],axis=1)"
   ]
  },
  {
   "cell_type": "code",
   "execution_count": 164,
   "metadata": {
    "scrolled": true
   },
   "outputs": [
    {
     "data": {
      "text/plain": [
       "Index(['Name', 'Book Intro Chapter', 'Gender', 'Nobility', 'Dead',\n",
       "       'allegiance_Arryn', 'allegiance_Baratheon', 'allegiance_House Arryn',\n",
       "       'allegiance_House Baratheon', 'allegiance_House Greyjoy',\n",
       "       'allegiance_House Lannister', 'allegiance_House Stark',\n",
       "       'allegiance_House Targaryen', 'allegiance_House Tully',\n",
       "       'allegiance_House Tyrell', 'allegiance_Lannister',\n",
       "       'allegiance_Night's Watch', 'allegiance_None', 'allegiance_Stark',\n",
       "       'allegiance_Targaryen', 'allegiance_Tully', 'allegiance_Tyrell',\n",
       "       'allegiance_Wildling', 'allegiance_nan', 'Betweenness', 'Community',\n",
       "       'Rank', 'Degree', 'community_0.0', 'community_1.0', 'community_2.0',\n",
       "       'community_3.0', 'community_4.0', 'community_5.0', 'community_6.0',\n",
       "       'community_7.0', 'community_8.0', 'community_nan'],\n",
       "      dtype='object')"
      ]
     },
     "execution_count": 164,
     "metadata": {},
     "output_type": "execute_result"
    }
   ],
   "source": [
    "augmented_df.columns"
   ]
  },
  {
   "cell_type": "code",
   "execution_count": 165,
   "metadata": {},
   "outputs": [],
   "source": [
    "# Prepare data\n",
    "X, y = augmented_df.drop(['Name','Dead','Community','community_nan','allegiance_nan'],axis=1), augmented_df['Dead']\n",
    "X = StandardScaler().fit_transform(X)\n",
    "GX_train, GX_test, Gy_train, Gy_test = \\\n",
    "        train_test_split(X, y, test_size=.2, random_state=42)"
   ]
  },
  {
   "cell_type": "code",
   "execution_count": 166,
   "metadata": {
    "scrolled": false
   },
   "outputs": [
    {
     "name": "stdout",
     "output_type": "stream",
     "text": [
      "Base F1 Score for Nearest Neighbors: 0.5625\n",
      "Graph Augmented F1 Score for Nearest Neighbors: 0.4666666666666667 \n",
      "\n",
      "Base F1 Score for Linear SVM: 0.4666666666666667\n",
      "Graph Augmented F1 Score for Linear SVM: 0.5 \n",
      "\n",
      "Base F1 Score for RBF SVM: 0.38461538461538464\n",
      "Graph Augmented F1 Score for RBF SVM: 0.4827586206896552 \n",
      "\n",
      "Base F1 Score for Random Forest: 0.24000000000000005\n",
      "Graph Augmented F1 Score for Random Forest: 0.32 \n",
      "\n",
      "Base F1 Score for Neural Net: 0.4666666666666667\n",
      "Graph Augmented F1 Score for Neural Net: 0.45161290322580644 \n",
      "\n",
      "Base F1 Score for Logistic Regression: 0.3703703703703703\n",
      "Graph Augmented F1 Score for Logistic Regression: 0.5185185185185185 \n",
      "\n"
     ]
    }
   ],
   "source": [
    "# Untuned Classifiers no weight\n",
    "for name, clf in zip(names, classifiers):\n",
    "    clf.fit(X_train, y_train)\n",
    "    print(f'Base F1 Score for {name}: {f1_score(y_test, clf.predict(X_test))}')\n",
    "    clf.fit(GX_train, Gy_train)\n",
    "    print(f'Graph Augmented F1 Score for {name}: {f1_score(Gy_test, clf.predict(GX_test))} \\n')"
   ]
  },
  {
   "cell_type": "code",
   "execution_count": 136,
   "metadata": {
    "scrolled": false
   },
   "outputs": [
    {
     "name": "stdout",
     "output_type": "stream",
     "text": [
      "Base F1 Score for Nearest Neighbors: 0.5625\n",
      "Graph Augmented F1 Score for Nearest Neighbors: 0.41379310344827586 \n",
      "\n",
      "Base F1 Score for Linear SVM: 0.4666666666666667\n",
      "Graph Augmented F1 Score for Linear SVM: 0.5 \n",
      "\n",
      "Base F1 Score for RBF SVM: 0.38461538461538464\n",
      "Graph Augmented F1 Score for RBF SVM: 0.3076923076923077 \n",
      "\n",
      "Base F1 Score for Random Forest: 0.24000000000000005\n",
      "Graph Augmented F1 Score for Random Forest: 0.35714285714285715 \n",
      "\n",
      "Base F1 Score for Neural Net: 0.4666666666666667\n",
      "Graph Augmented F1 Score for Neural Net: 0.39999999999999997 \n",
      "\n",
      "Base F1 Score for Logistic Regression: 0.3703703703703703\n",
      "Graph Augmented F1 Score for Logistic Regression: 0.5 \n",
      "\n"
     ]
    }
   ],
   "source": [
    "# Untuned Classifiers (weight = weight)\n",
    "for name, clf in zip(names, classifiers):\n",
    "    clf.fit(X_train, y_train)\n",
    "    print(f'Base F1 Score for {name}: {f1_score(y_test, clf.predict(X_test))}')\n",
    "    clf.fit(GX_train, Gy_train)\n",
    "    print(f'Graph Augmented F1 Score for {name}: {f1_score(Gy_test, clf.predict(GX_test))} \\n')"
   ]
  },
  {
   "cell_type": "code",
   "execution_count": 155,
   "metadata": {
    "scrolled": false
   },
   "outputs": [
    {
     "name": "stdout",
     "output_type": "stream",
     "text": [
      "Base F1 Score for Nearest Neighbors: 0.5625\n",
      "Graph Augmented F1 Score for Nearest Neighbors: 0.4666666666666667 \n",
      "\n",
      "Base F1 Score for Linear SVM: 0.4666666666666667\n",
      "Graph Augmented F1 Score for Linear SVM: 0.5 \n",
      "\n",
      "Base F1 Score for RBF SVM: 0.38461538461538464\n",
      "Graph Augmented F1 Score for RBF SVM: 0.4827586206896552 \n",
      "\n",
      "Base F1 Score for Random Forest: 0.24000000000000005\n",
      "Graph Augmented F1 Score for Random Forest: 0.39999999999999997 \n",
      "\n",
      "Base F1 Score for Neural Net: 0.4666666666666667\n",
      "Graph Augmented F1 Score for Neural Net: 0.39999999999999997 \n",
      "\n",
      "Base F1 Score for Logistic Regression: 0.3703703703703703\n",
      "Graph Augmented F1 Score for Logistic Regression: 0.5185185185185185 \n",
      "\n"
     ]
    }
   ],
   "source": [
    "# Untuned Classifiers weight = inverse\n",
    "for name, clf in zip(names, classifiers):\n",
    "    clf.fit(X_train, y_train)\n",
    "    print(f'Base F1 Score for {name}: {f1_score(y_test, clf.predict(X_test))}')\n",
    "    clf.fit(GX_train, Gy_train)\n",
    "    print(f'Graph Augmented F1 Score for {name}: {f1_score(Gy_test, clf.predict(GX_test))} \\n')"
   ]
  },
  {
   "cell_type": "code",
   "execution_count": null,
   "metadata": {},
   "outputs": [],
   "source": []
  }
 ],
 "metadata": {
  "kernelspec": {
   "display_name": "Python 3",
   "language": "python",
   "name": "python3"
  },
  "language_info": {
   "codemirror_mode": {
    "name": "ipython",
    "version": 3
   },
   "file_extension": ".py",
   "mimetype": "text/x-python",
   "name": "python",
   "nbconvert_exporter": "python",
   "pygments_lexer": "ipython3",
   "version": "3.7.3"
  }
 },
 "nbformat": 4,
 "nbformat_minor": 2
}
